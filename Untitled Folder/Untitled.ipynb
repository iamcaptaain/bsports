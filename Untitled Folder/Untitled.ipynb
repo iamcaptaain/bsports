{
 "cells": [
  {
   "cell_type": "code",
   "execution_count": null,
   "metadata": {},
   "outputs": [],
   "source": [
    "import pandas as pd\n",
    "import matplotlib as mpl\n",
    "import matplotlib.pyplot as plt\n",
    "\n",
    "data = pd.read_csv('new.txt')\n",
    "d = data[data.columns[:1]]\n",
    "print(d.head())\n",
    "data.columns = ['a','b','c','d','e','f','g','h','i','j','k','l','m','n','o','p','q','r','s']\n",
    "print(data)"
   ]
  },
  {
   "cell_type": "code",
   "execution_count": null,
   "metadata": {},
   "outputs": [],
   "source": [
    "import numpy as np\n",
    "import matplotlib.pyplot as plt\n",
    "\n",
    "data = np.genfromtxt(\"new.txt\", delimiter = ',')\n",
    "lat = data[:,][:,0]\n",
    "lon = data[:,][:,1]\n",
    "time = data[:,][:,17]\n",
    "\n",
    "#  calculation of total distance using gps coordinates\n",
    "from geopy.distance import geodesic\n",
    "\n",
    "gps_coordinates = [(i, j) for i, j in zip(lat, lon)]\n",
    "gps_pairs = zip(gps_coordinates[::1], gps_coordinates[1:])\n",
    "distances = [geodesic(x[0], x[1]).meters for x in gps_pairs]\n",
    "sum_d = sum(distances)\n",
    "print(\"\\nTotal distance covered = \")\n",
    "print(\"%.2f\" % sum_d)\n",
    "\n",
    "# calculation of total time\n",
    "def time_calc(t1, t2):\n",
    "    dt = t2 - t1\n",
    "    return dt\n",
    "\n",
    "times = [time_calc(time[x], time[x+1]) for x in range(len(time)-1)]\n",
    "sum_t = sum(times)/1000\n",
    "print(\"\\nTotal time taken = \")\n",
    "print(\"%.1f\" % sum_t)\n",
    "\n",
    "# calculation of speed\n",
    "def speed_calc(sum_d, sum_t):\n",
    "    speed = sum_d/sum_t\n",
    "    return speed\n",
    "\n",
    "print(\"\\nAverage speed for the duration in (m/s) = \")\n",
    "print(\"%.2f\" % speed_calc(sum_d, sum_t))\n",
    "print(\"\")\n",
    "\n",
    "# n-time breakdown of distance\n",
    "sum_d, sum_t = 0, 0\n",
    "breakdown_distance = []\n",
    "for i, j in zip(range(len(distances)-1), range(len(times) - 1)):\n",
    "    sum_d += distances[i]\n",
    "    sum_t += times[j]\n",
    "    if sum_t >= 5000:\n",
    "        print(\"%.2f\" % sum_d, \"%.f\" % (sum_t/1000))\n",
    "        breakdown_distance.append(\"%.2f\" % sum_d)\n",
    "        sum_d = 0\n",
    "        sum_t = 0\n",
    "\n",
    "\n"
   ]
  },
  {
   "cell_type": "code",
   "execution_count": null,
   "metadata": {},
   "outputs": [],
   "source": [
    "plt.subplot(133)\n",
    "plt.plot(distances)\n",
    "plt.show()\n"
   ]
  },
  {
   "cell_type": "code",
   "execution_count": null,
   "metadata": {},
   "outputs": [],
   "source": [
    "plt.subplot(131)\n",
    "plt.bar(distances, times)\n",
    "plt.show()"
   ]
  },
  {
   "cell_type": "code",
   "execution_count": null,
   "metadata": {},
   "outputs": [],
   "source": []
  }
 ],
 "metadata": {
  "kernelspec": {
   "display_name": "Python 3",
   "language": "python",
   "name": "python3"
  },
  "language_info": {
   "codemirror_mode": {
    "name": "ipython",
    "version": 3
   },
   "file_extension": ".py",
   "mimetype": "text/x-python",
   "name": "python",
   "nbconvert_exporter": "python",
   "pygments_lexer": "ipython3",
   "version": "3.7.4"
  }
 },
 "nbformat": 4,
 "nbformat_minor": 2
}
